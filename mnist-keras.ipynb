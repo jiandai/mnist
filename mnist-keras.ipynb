{
  "metadata": {
    "kernelspec": {
      "display_name": "Python 3",
      "language": "python",
      "name": "python3"
    },
    "language_info": {
      "codemirror_mode": {
        "name": "ipython",
        "version": 3
      },
      "file_extension": ".py",
      "mimetype": "text/x-python",
      "name": "python",
      "nbconvert_exporter": "python",
      "pygments_lexer": "ipython3",
      "version": "3.6.0"
    }
  },
  "nbformat": 4,
  "nbformat_minor": 0,
  "cells": [
    {
      "cell_type": "markdown",
      "source": "A test of Kernel feature of Kaggle",
      "metadata": {}
    },
    {
      "cell_type": "code",
      "source": "# This Python 3 environment comes with many helpful analytics libraries installed\n# It is defined by the kaggle/python docker image: https://github.com/kaggle/docker-python\n\nfrom subprocess import check_output\nprint(check_output([\"ls\", \"../input\"]).decode(\"utf8\"))\n\n# Any results you write to the current directory are saved as output.",
      "execution_count": 1,
      "outputs": [
        {
          "name": "stdout",
          "output_type": "stream",
          "text": "test.csv\ntrain.csv\n\n"
        }
      ],
      "metadata": {}
    },
    {
      "cell_type": "code",
      "source": "import pandas as pd\ntrainDF = pd.read_csv('../input/train.csv')\ntestDF = pd.read_csv('../input/test.csv')",
      "execution_count": 3,
      "outputs": [],
      "metadata": {}
    },
    {
      "cell_type": "code",
      "source": "Y_train1 = trainDF.loc[:,'label'].values \nX_train1 = trainDF.loc[:,'pixel0':'pixel783'].values\nX_test1 = testDF.loc[:,'pixel0':'pixel783'].values \ntr_n,tr_p = X_train1.shape\ntt_n,tt_p = X_test1.shape\nsize = 28",
      "execution_count": 4,
      "outputs": [],
      "metadata": {}
    },
    {
      "cell_type": "code",
      "source": "import numpy as np\nX_train = X_train1.reshape((tr_n,1,size,size)).astype('float32')\nX_test = X_test1.reshape((tt_n,1,size,size)).astype('float32')\n# Assume the max is 255\nX_train = X_train / 255\nX_test = X_test / 255\n",
      "execution_count": 5,
      "outputs": [],
      "metadata": {}
    },
    {
      "cell_type": "code",
      "source": "from keras.utils import np_utils\nY_train = np_utils.to_categorical(Y_train1)\n\nnum_classes = Y_train.shape[1]\n\n\nprint(X_train.shape)\nprint(Y_train.shape)",
      "execution_count": 6,
      "outputs": [
        {
          "name": "stderr",
          "output_type": "stream",
          "text": "Using TensorFlow backend.\n"
        },
        {
          "name": "stdout",
          "output_type": "stream",
          "text": "(42000, 1, 28, 28)\n(42000, 10)\n"
        }
      ],
      "metadata": {}
    },
    {
      "cell_type": "code",
      "source": "seed = 7\nnp.random.seed(seed)\n\nfrom keras.models import Sequential\nfrom keras.layers import Dense\nfrom keras.layers import Dropout\nfrom keras.layers import Flatten\nfrom keras.layers.convolutional import Convolution2D\nfrom keras.layers.convolutional import MaxPooling2D",
      "execution_count": 7,
      "outputs": [],
      "metadata": {}
    },
    {
      "cell_type": "code",
      "source": "from keras import backend as K\nK.set_image_dim_ordering('th')",
      "execution_count": 10,
      "outputs": [],
      "metadata": {}
    },
    {
      "cell_type": "code",
      "source": "def baseline_model():\n        # create model\n        model = Sequential()\n        # MLP model\n        #model.add(Dense(num_pixels, input_dim=num_pixels, init='normal', activation='relu'))\n        #model.add(Dense(num_classes, init='normal', activation='softmax'))\n        # CNN model\n        model.add(Convolution2D(32, 5, 5, border_mode='valid', input_shape=(1, size, size), activation='relu'))\n        model.add(MaxPooling2D(pool_size=(2, 2)))\n        model.add(Dropout(0.2))\n        model.add(Flatten())\n        model.add(Dense(128, activation='relu'))\n        model.add(Dense(num_classes, activation='softmax'))\n        # Compile model\n        model.compile(loss='categorical_crossentropy', optimizer='adam', metrics=['accuracy'])\n        return model",
      "execution_count": 11,
      "outputs": [],
      "metadata": {}
    },
    {
      "cell_type": "code",
      "source": "model = baseline_model()",
      "execution_count": 12,
      "outputs": [],
      "metadata": {}
    },
    {
      "cell_type": "code",
      "source": "N_EPOCH = 10\nfrom keras.wrappers.scikit_learn import KerasClassifier\nestimator = KerasClassifier(build_fn=baseline_model, nb_epoch=N_EPOCH, batch_size=50, verbose=2)\nfrom sklearn.model_selection import KFold\nkfold = KFold(n_splits=10, shuffle=True, random_state=seed)\nfrom sklearn.model_selection import cross_val_score\nresults = cross_val_score(estimator, X_train, Y_train, cv=kfold)\nprint(\"Output: %.2f%% (%.2f%%)\" % (results.mean()*100, results.std()*100))",
      "execution_count": null,
      "outputs": [],
      "metadata": {}
    }
  ]
}