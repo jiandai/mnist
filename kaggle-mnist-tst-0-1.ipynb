{
 "cells": [
  {
   "cell_type": "markdown",
   "metadata": {},
   "source": [
    "## Exercise to use Keras\n",
    "- More exercise on 1-hidden layer MPL\n",
    "- Conv2d"
   ]
  },
  {
   "cell_type": "code",
   "execution_count": 1,
   "metadata": {
    "collapsed": false
   },
   "outputs": [
    {
     "name": "stderr",
     "output_type": "stream",
     "text": [
      "Using TensorFlow backend.\n"
     ]
    }
   ],
   "source": [
    "import keras"
   ]
  },
  {
   "cell_type": "code",
   "execution_count": 2,
   "metadata": {
    "collapsed": false
   },
   "outputs": [
    {
     "data": {
      "text/plain": [
       "'channels_last'"
      ]
     },
     "execution_count": 2,
     "metadata": {},
     "output_type": "execute_result"
    }
   ],
   "source": [
    "keras.backend.image_data_format()"
   ]
  },
  {
   "cell_type": "code",
   "execution_count": 3,
   "metadata": {
    "collapsed": false
   },
   "outputs": [
    {
     "data": {
      "text/plain": [
       "'tf'"
      ]
     },
     "execution_count": 3,
     "metadata": {},
     "output_type": "execute_result"
    }
   ],
   "source": [
    "keras.backend.image_dim_ordering()"
   ]
  },
  {
   "cell_type": "code",
   "execution_count": 4,
   "metadata": {
    "collapsed": true
   },
   "outputs": [],
   "source": [
    "model = keras.models.Sequential()\n",
    "model.add(keras.layers.Dense(100,input_dim=784,activation='relu'))\n",
    "model.add(keras.layers.Dense(10,activation='softmax'))\n",
    "model.compile(optimizer='sgd',loss='categorical_crossentropy',metrics=['accuracy'])"
   ]
  },
  {
   "cell_type": "code",
   "execution_count": 5,
   "metadata": {
    "collapsed": false
   },
   "outputs": [
    {
     "name": "stdout",
     "output_type": "stream",
     "text": [
      "_________________________________________________________________\n",
      "Layer (type)                 Output Shape              Param #   \n",
      "=================================================================\n",
      "dense_1 (Dense)              (None, 100)               78500     \n",
      "_________________________________________________________________\n",
      "dense_2 (Dense)              (None, 10)                1010      \n",
      "=================================================================\n",
      "Total params: 79,510.0\n",
      "Trainable params: 79,510\n",
      "Non-trainable params: 0.0\n",
      "_________________________________________________________________\n"
     ]
    }
   ],
   "source": [
    "model.summary()"
   ]
  },
  {
   "cell_type": "code",
   "execution_count": 6,
   "metadata": {
    "collapsed": false
   },
   "outputs": [
    {
     "data": {
      "text/plain": [
       "79510"
      ]
     },
     "execution_count": 6,
     "metadata": {},
     "output_type": "execute_result"
    }
   ],
   "source": [
    "785*100+101*10"
   ]
  },
  {
   "cell_type": "code",
   "execution_count": 7,
   "metadata": {
    "collapsed": true
   },
   "outputs": [],
   "source": [
    "import pandas as pd\n",
    "trainDF = pd.read_csv('../input/train.csv')\n",
    "testDF = pd.read_csv('../input/test.csv')"
   ]
  },
  {
   "cell_type": "code",
   "execution_count": 8,
   "metadata": {
    "collapsed": false
   },
   "outputs": [
    {
     "data": {
      "text/plain": [
       "((42000, 785), (28000, 784))"
      ]
     },
     "execution_count": 8,
     "metadata": {},
     "output_type": "execute_result"
    }
   ],
   "source": [
    "trainDF.shape, testDF.shape"
   ]
  },
  {
   "cell_type": "code",
   "execution_count": 9,
   "metadata": {
    "collapsed": true
   },
   "outputs": [],
   "source": [
    "train_X = trainDF.loc[:,'pixel0':'pixel783'].values"
   ]
  },
  {
   "cell_type": "code",
   "execution_count": 10,
   "metadata": {
    "collapsed": true
   },
   "outputs": [],
   "source": [
    "train_Y = keras.utils.to_categorical(trainDF.loc[:,'label'].values)"
   ]
  },
  {
   "cell_type": "code",
   "execution_count": 11,
   "metadata": {
    "collapsed": false
   },
   "outputs": [
    {
     "name": "stdout",
     "output_type": "stream",
     "text": [
      "Train on 29399 samples, validate on 12601 samples\n",
      "Epoch 1/10\n",
      "29399/29399 [==============================] - 1s - loss: 9.7008 - acc: 0.3946 - val_loss: 7.6329 - val_acc: 0.5234\n",
      "Epoch 2/10\n",
      "29399/29399 [==============================] - 1s - loss: 7.4294 - acc: 0.5362 - val_loss: 7.1577 - val_acc: 0.5540\n",
      "Epoch 3/10\n",
      "29399/29399 [==============================] - 1s - loss: 6.9471 - acc: 0.5667 - val_loss: 5.8981 - val_acc: 0.6315\n",
      "Epoch 4/10\n",
      "29399/29399 [==============================] - 1s - loss: 5.7596 - acc: 0.6400 - val_loss: 5.5799 - val_acc: 0.6520\n",
      "Epoch 5/10\n",
      "29399/29399 [==============================] - 1s - loss: 5.5725 - acc: 0.6520 - val_loss: 5.7628 - val_acc: 0.6403\n",
      "Epoch 6/10\n",
      "29399/29399 [==============================] - 1s - loss: 4.9375 - acc: 0.6907 - val_loss: 4.6871 - val_acc: 0.7065\n",
      "Epoch 7/10\n",
      "29399/29399 [==============================] - 1s - loss: 4.4139 - acc: 0.7235 - val_loss: 4.3981 - val_acc: 0.7230\n",
      "Epoch 8/10\n",
      "29399/29399 [==============================] - 1s - loss: 4.2134 - acc: 0.7359 - val_loss: 4.3507 - val_acc: 0.7270\n",
      "Epoch 9/10\n",
      "29399/29399 [==============================] - 1s - loss: 4.1967 - acc: 0.7373 - val_loss: 4.6115 - val_acc: 0.7107\n",
      "Epoch 10/10\n",
      "29399/29399 [==============================] - 1s - loss: 3.6501 - acc: 0.7702 - val_loss: 3.1376 - val_acc: 0.8011\n"
     ]
    }
   ],
   "source": [
    "history = model.fit(train_X, train_Y, validation_split=.3, epochs=10, batch_size= 200, verbose=1)"
   ]
  },
  {
   "cell_type": "code",
   "execution_count": 12,
   "metadata": {
    "collapsed": false
   },
   "outputs": [
    {
     "data": {
      "text/plain": [
       "{'acc': [0.39457124307036479,\n",
       "  0.53617469922568251,\n",
       "  0.56665192667880571,\n",
       "  0.64002176851126413,\n",
       "  0.65202898182241753,\n",
       "  0.69070376597957917,\n",
       "  0.723528011369723,\n",
       "  0.73590938655441041,\n",
       "  0.73726997350672441,\n",
       "  0.77016224970302272],\n",
       " 'loss': [9.700819457387059,\n",
       "  7.4294177086694964,\n",
       "  6.9470535864849969,\n",
       "  5.7596116966810182,\n",
       "  5.5725403111493277,\n",
       "  4.9375409739346496,\n",
       "  4.4138686928385278,\n",
       "  4.2133558765999046,\n",
       "  4.1967304639700478,\n",
       "  3.6501347462884981],\n",
       " 'val_acc': [0.52337115714024218,\n",
       "  0.55400364815777292,\n",
       "  0.63145782406221695,\n",
       "  0.65201174388867633,\n",
       "  0.64034600095534722,\n",
       "  0.70645186874792887,\n",
       "  0.72303785614414484,\n",
       "  0.72700579614263139,\n",
       "  0.71065788486251547,\n",
       "  0.8011268904148402],\n",
       " 'val_loss': [7.6329461070395928,\n",
       "  7.1576667278874968,\n",
       "  5.8980572629888783,\n",
       "  5.5798950576751958,\n",
       "  5.7627974099161587,\n",
       "  4.687109406604983,\n",
       "  4.3980774712575803,\n",
       "  4.3507278555301001,\n",
       "  4.6115454940244929,\n",
       "  3.1376211541709935]}"
      ]
     },
     "execution_count": 12,
     "metadata": {},
     "output_type": "execute_result"
    }
   ],
   "source": [
    "history.history"
   ]
  },
  {
   "cell_type": "code",
   "execution_count": 14,
   "metadata": {
    "collapsed": true
   },
   "outputs": [],
   "source": [
    "test_X = testDF.values"
   ]
  },
  {
   "cell_type": "code",
   "execution_count": 15,
   "metadata": {
    "collapsed": false
   },
   "outputs": [
    {
     "data": {
      "text/plain": [
       "((42000, 784), (42000, 10), (28000, 784))"
      ]
     },
     "execution_count": 15,
     "metadata": {},
     "output_type": "execute_result"
    }
   ],
   "source": [
    "train_X.shape, train_Y.shape, test_X.shape"
   ]
  },
  {
   "cell_type": "code",
   "execution_count": 16,
   "metadata": {
    "collapsed": true
   },
   "outputs": [],
   "source": [
    "conv_model = keras.models.Sequential()"
   ]
  },
  {
   "cell_type": "code",
   "execution_count": 17,
   "metadata": {
    "collapsed": true
   },
   "outputs": [],
   "source": [
    "conv_model.add(keras.layers.Conv2D(filters=32,kernel_size=(3,3),input_shape=(28,28,1),padding='same',activation='relu'))"
   ]
  },
  {
   "cell_type": "code",
   "execution_count": 18,
   "metadata": {
    "collapsed": false
   },
   "outputs": [
    {
     "name": "stdout",
     "output_type": "stream",
     "text": [
      "_________________________________________________________________\n",
      "Layer (type)                 Output Shape              Param #   \n",
      "=================================================================\n",
      "conv2d_1 (Conv2D)            (None, 28, 28, 32)        320       \n",
      "=================================================================\n",
      "Total params: 320.0\n",
      "Trainable params: 320\n",
      "Non-trainable params: 0.0\n",
      "_________________________________________________________________\n"
     ]
    }
   ],
   "source": [
    "conv_model.summary()"
   ]
  },
  {
   "cell_type": "code",
   "execution_count": 19,
   "metadata": {
    "collapsed": false
   },
   "outputs": [
    {
     "data": {
      "text/plain": [
       "320"
      ]
     },
     "execution_count": 19,
     "metadata": {},
     "output_type": "execute_result"
    }
   ],
   "source": [
    "3*3*32 + 32"
   ]
  },
  {
   "cell_type": "code",
   "execution_count": 20,
   "metadata": {
    "collapsed": true
   },
   "outputs": [],
   "source": [
    "conv_model.add(keras.layers.MaxPool2D(pool_size=(4,4)))"
   ]
  },
  {
   "cell_type": "code",
   "execution_count": 21,
   "metadata": {
    "collapsed": false
   },
   "outputs": [
    {
     "name": "stdout",
     "output_type": "stream",
     "text": [
      "_________________________________________________________________\n",
      "Layer (type)                 Output Shape              Param #   \n",
      "=================================================================\n",
      "conv2d_1 (Conv2D)            (None, 28, 28, 32)        320       \n",
      "_________________________________________________________________\n",
      "max_pooling2d_1 (MaxPooling2 (None, 7, 7, 32)          0         \n",
      "=================================================================\n",
      "Total params: 320.0\n",
      "Trainable params: 320.0\n",
      "Non-trainable params: 0.0\n",
      "_________________________________________________________________\n"
     ]
    }
   ],
   "source": [
    "conv_model.summary()"
   ]
  },
  {
   "cell_type": "code",
   "execution_count": 22,
   "metadata": {
    "collapsed": true
   },
   "outputs": [],
   "source": [
    "conv_model.add(keras.layers.Flatten())\n",
    "conv_model.add(keras.layers.Dense(10,activation='softmax'))"
   ]
  },
  {
   "cell_type": "code",
   "execution_count": 23,
   "metadata": {
    "collapsed": false
   },
   "outputs": [
    {
     "name": "stdout",
     "output_type": "stream",
     "text": [
      "_________________________________________________________________\n",
      "Layer (type)                 Output Shape              Param #   \n",
      "=================================================================\n",
      "conv2d_1 (Conv2D)            (None, 28, 28, 32)        320       \n",
      "_________________________________________________________________\n",
      "max_pooling2d_1 (MaxPooling2 (None, 7, 7, 32)          0         \n",
      "_________________________________________________________________\n",
      "flatten_1 (Flatten)          (None, 1568)              0         \n",
      "_________________________________________________________________\n",
      "dense_3 (Dense)              (None, 10)                15690     \n",
      "=================================================================\n",
      "Total params: 16,010.0\n",
      "Trainable params: 16,010.0\n",
      "Non-trainable params: 0.0\n",
      "_________________________________________________________________\n"
     ]
    }
   ],
   "source": [
    "conv_model.summary()"
   ]
  },
  {
   "cell_type": "code",
   "execution_count": 24,
   "metadata": {
    "collapsed": false
   },
   "outputs": [
    {
     "data": {
      "text/plain": [
       "(0, 255)"
      ]
     },
     "execution_count": 24,
     "metadata": {},
     "output_type": "execute_result"
    }
   ],
   "source": [
    "train_X.min(), train_X.max()"
   ]
  },
  {
   "cell_type": "code",
   "execution_count": 25,
   "metadata": {
    "collapsed": false
   },
   "outputs": [
    {
     "data": {
      "text/plain": [
       "dtype('int64')"
      ]
     },
     "execution_count": 25,
     "metadata": {},
     "output_type": "execute_result"
    }
   ],
   "source": [
    "train_X.dtype"
   ]
  },
  {
   "cell_type": "code",
   "execution_count": 26,
   "metadata": {
    "collapsed": true
   },
   "outputs": [],
   "source": [
    "train_X = train_X.reshape(train_X.shape[0],28,28,1).astype('float32')"
   ]
  },
  {
   "cell_type": "code",
   "execution_count": 27,
   "metadata": {
    "collapsed": true
   },
   "outputs": [],
   "source": [
    "train_X = (train_X - train_X.min())/(train_X.max() - train_X.min())"
   ]
  },
  {
   "cell_type": "code",
   "execution_count": 28,
   "metadata": {
    "collapsed": true
   },
   "outputs": [],
   "source": [
    "conv_model.compile(optimizer='adam', loss='categorical_crossentropy', metrics=['accuracy'])"
   ]
  },
  {
   "cell_type": "code",
   "execution_count": 29,
   "metadata": {
    "collapsed": false
   },
   "outputs": [
    {
     "name": "stdout",
     "output_type": "stream",
     "text": [
      "Train on 25200 samples, validate on 16800 samples\n",
      "Epoch 1/5\n",
      "25200/25200 [==============================] - 22s - loss: 0.5944 - acc: 0.8427 - val_loss: 0.2559 - val_acc: 0.9245\n",
      "Epoch 2/5\n",
      "25200/25200 [==============================] - 22s - loss: 0.2035 - acc: 0.9413 - val_loss: 0.1704 - val_acc: 0.9514\n",
      "Epoch 3/5\n",
      "25200/25200 [==============================] - 22s - loss: 0.1442 - acc: 0.9589 - val_loss: 0.1346 - val_acc: 0.9603\n",
      "Epoch 4/5\n",
      "25200/25200 [==============================] - 22s - loss: 0.1160 - acc: 0.9665 - val_loss: 0.1149 - val_acc: 0.9655\n",
      "Epoch 5/5\n",
      "25200/25200 [==============================] - 20s - loss: 0.0994 - acc: 0.9708 - val_loss: 0.0988 - val_acc: 0.9702\n"
     ]
    }
   ],
   "source": [
    "history = conv_model.fit(train_X, train_Y, epochs=5, batch_size=64, validation_split=.4, verbose=1)"
   ]
  },
  {
   "cell_type": "markdown",
   "metadata": {},
   "source": [
    "With such a simple convolutional architecture, we achieved validation accuracy 96.8% in only 5 epochs.\n",
    "<pre>\n",
    "Layer (type)                 Output Shape              Param #   \n",
    "=================================================================\n",
    "conv2d_3 (Conv2D)            (None, 28, 28, 32)        320       \n",
    "_________________________________________________________________\n",
    "max_pooling2d_1 (MaxPooling2 (None, 7, 7, 32)          0         \n",
    "_________________________________________________________________\n",
    "flatten_1 (Flatten)          (None, 1568)              0         \n",
    "_________________________________________________________________\n",
    "dense_3 (Dense)              (None, 10)                15690     \n",
    "=================================================================\n",
    "Total params: 16,010\n",
    "Trainable params: 16,010\n",
    "Non-trainable params: 0\n",
    "</pre>"
   ]
  },
  {
   "cell_type": "markdown",
   "metadata": {},
   "source": [
    "<pre>\n",
    "conv_model = keras.models.Sequential()\n",
    "conv_model.add(keras.layers.Conv2D(filters=32,kernel_size=(3,3),input_shape=(28,28,1),padding='same',activation='relu'))\n",
    "conv_model.add(keras.layers.MaxPool2D(pool_size=(4,4)))\n",
    "conv_model.add(keras.layers.Flatten())\n",
    "conv_model.add(keras.layers.Dense(10,activation='softmax'))\n",
    "conv_model.compile(optimizer='adam', loss='categorical_crossentropy', metrics=['accuracy'])\n",
    "history = conv_model.fit(train_X, train_Y, epochs=5, batch_size=64, validation_split=.4, verbose=1)\n",
    "</pre>"
   ]
  },
  {
   "cell_type": "code",
   "execution_count": null,
   "metadata": {
    "collapsed": true
   },
   "outputs": [],
   "source": []
  }
 ],
 "metadata": {
  "anaconda-cloud": {},
  "kernelspec": {
   "display_name": "Python [default]",
   "language": "python",
   "name": "python3"
  },
  "language_info": {
   "codemirror_mode": {
    "name": "ipython",
    "version": 3
   },
   "file_extension": ".py",
   "mimetype": "text/x-python",
   "name": "python",
   "nbconvert_exporter": "python",
   "pygments_lexer": "ipython3",
   "version": "3.5.2"
  }
 },
 "nbformat": 4,
 "nbformat_minor": 0
}
